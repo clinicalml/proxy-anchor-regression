{
 "cells": [
  {
   "cell_type": "markdown",
   "metadata": {},
   "source": [
    "# Figure 12 (Temperature as proxy)\n",
    "\n",
    "To get coefficients, we retrain the model, since this is not saved during the larger experiment"
   ]
  },
  {
   "cell_type": "code",
   "execution_count": 1,
   "metadata": {},
   "outputs": [],
   "source": [
    "import numpy as np\n",
    "import pandas as pd\n",
    "\n",
    "import pdb\n",
    "\n",
    "from sklearn import linear_model as lm\n",
    "from sklearn import preprocessing \n",
    "from sklearn import model_selection as ms\n",
    "from sklearn import pipeline\n",
    "from sklearn.model_selection import train_test_split as tt_split\n",
    "\n",
    "from scipy.stats import skew\n",
    "from scipy.stats.stats import pearsonr\n",
    "\n",
    "import seaborn as sns\n",
    "import matplotlib.pyplot as plt\n",
    "\n",
    "import sys; sys.path.insert(0, '../')\n",
    "\n",
    "import utils\n",
    "\n",
    "from anchorRegression import AnchorRegression as AR\n",
    "from anchorRegression import CrossProxyAnchorRegression as XAR\n",
    "from anchorRegression import TargetedAnchorRegression as TAR\n",
    "from anchorRegression import CrossTargetedAnchorRegression as XTAR\n",
    "from anchorRegression import MeanPredictor"
   ]
  },
  {
   "cell_type": "markdown",
   "metadata": {},
   "source": [
    "## 1. Load data"
   ]
  },
  {
   "cell_type": "markdown",
   "metadata": {},
   "source": [
    "Note that the best scenario is determined in `results_tempC.ipynb` "
   ]
  },
  {
   "cell_type": "code",
   "execution_count": 2,
   "metadata": {},
   "outputs": [],
   "source": [
    "CITY = 0\n",
    "TEST_SEASON = 2\n",
    "\n",
    "proxy = 'TempC'\n",
    "proxies = [proxy]"
   ]
  },
  {
   "cell_type": "code",
   "execution_count": 3,
   "metadata": {},
   "outputs": [],
   "source": [
    "DATA_PATH = \"../data\"\n",
    "\n",
    "files = [\n",
    "    'BeijingPM20100101_20151231.csv',\n",
    "    'GuangzhouPM20100101_20151231.csv',\n",
    "    'ShenyangPM20100101_20151231.csv',\n",
    "    'ChengduPM20100101_20151231.csv',\n",
    "    'ShanghaiPM20100101_20151231.csv'\n",
    "]\n",
    "\n",
    "dfs = [pd.read_csv(f\"{DATA_PATH}/{f}\") for f in files]"
   ]
  },
  {
   "cell_type": "code",
   "execution_count": 4,
   "metadata": {},
   "outputs": [],
   "source": [
    "raw_df = dfs[CITY].drop('No', axis=1)\n",
    "filt_df = raw_df.dropna()\n",
    "\n",
    "df, X, y = utils.process_df(filt_df)"
   ]
  },
  {
   "cell_type": "code",
   "execution_count": 5,
   "metadata": {},
   "outputs": [],
   "source": [
    "dev_year = 2013\n",
    "drop_season = TEST_SEASON"
   ]
  },
  {
   "cell_type": "code",
   "execution_count": 6,
   "metadata": {},
   "outputs": [],
   "source": [
    "import utils\n",
    "\n",
    "data = utils.get_dev_train_test_data(df, X, y, drop_season, dev_year, proxies)"
   ]
  },
  {
   "cell_type": "markdown",
   "metadata": {},
   "source": [
    "## 2. Fit Estimators"
   ]
  },
  {
   "cell_type": "code",
   "execution_count": 7,
   "metadata": {},
   "outputs": [],
   "source": [
    "from copy import deepcopy"
   ]
  },
  {
   "cell_type": "code",
   "execution_count": 8,
   "metadata": {},
   "outputs": [],
   "source": [
    "lr = pipeline.Pipeline([('scaler', preprocessing.StandardScaler()), \n",
    "                        ('pred', lm.LinearRegression(fit_intercept=True, normalize=False))])\n",
    "\n",
    "baselines = {\n",
    "    'OLS':  \n",
    "        {'pipe': deepcopy(lr), \n",
    "         'drop_cols': proxies, \n",
    "         'fit_params': None}\n",
    "}"
   ]
  },
  {
   "cell_type": "code",
   "execution_count": 9,
   "metadata": {},
   "outputs": [],
   "source": [
    "tar_estimators = utils.construct_tar(data, proxies, drop_all=True)\n",
    "ar_estimators = utils.construct_ar(data, proxies, drop_all=True)"
   ]
  },
  {
   "cell_type": "code",
   "execution_count": 10,
   "metadata": {},
   "outputs": [],
   "source": [
    "estimators = {**baselines,\n",
    "              **ar_estimators, \n",
    "              **tar_estimators}"
   ]
  },
  {
   "cell_type": "code",
   "execution_count": 11,
   "metadata": {},
   "outputs": [
    {
     "name": "stdout",
     "output_type": "stream",
     "text": [
      "AR (TempC): {'pred__lamb': 40.0}\n"
     ]
    }
   ],
   "source": [
    "for k, est in estimators.items():\n",
    "    if 'tune_lambda' in est.keys() and est['tune_lambda']:\n",
    "        best_lambda = utils.get_best_lambda(est, data)\n",
    "        \n",
    "        print(f\"{k}: {best_lambda}\")\n",
    "        \n",
    "        estimators[k]['pipe'] = estimators[k]['pipe'].set_params(\n",
    "            **best_lambda)\n",
    "        \n",
    "        estimators[k].update(best_lambda)"
   ]
  },
  {
   "cell_type": "code",
   "execution_count": 12,
   "metadata": {},
   "outputs": [],
   "source": [
    "for k, est in estimators.items():\n",
    "    \n",
    "    perf = {}\n",
    "    \n",
    "    # Get cross-validated training errors\n",
    "    this_X_train = utils.get_estimator_X(data['train']['X'], est)\n",
    "    this_X_test = utils.get_estimator_X(data['test']['X'], est)\n",
    "    y_train = data['train']['y']\n",
    "    y_test = data['test']['y']\n",
    "\n",
    "    preds_train_cv = ms.cross_val_predict(est['pipe'], this_X_train, y_train, fit_params=est['fit_params'], cv=10)\n",
    "    resid_train_cv = preds_train_cv - y_train\n",
    "    \n",
    "    perf['Train (CV)'] = {\n",
    "        'preds': preds_train_cv,\n",
    "        'resid': resid_train_cv.values\n",
    "    }\n",
    "    \n",
    "    # Train on the full training set    \n",
    "    if est['fit_params'] is not None:\n",
    "        est['fit'] = est['pipe'].fit(this_X_train, y_train, **est['fit_params'])\n",
    "    else:\n",
    "        est['fit'] = est['pipe'].fit(this_X_train, y_train)\n",
    "        \n",
    "    # Evaluate on the test set\n",
    "    preds_test = est['fit'].predict(this_X_test)\n",
    "    resid_test = preds_test - y_test\n",
    "\n",
    "    perf['Test'] = {\n",
    "        'preds': preds_test,\n",
    "        'resid': resid_test.values\n",
    "    }\n",
    "    \n",
    "    estimators[k]['perf'] = perf"
   ]
  },
  {
   "cell_type": "markdown",
   "metadata": {},
   "source": [
    "## Construct Figure 12\n",
    "\n",
    "First, examine the intercepts, then the coefficients."
   ]
  },
  {
   "cell_type": "code",
   "execution_count": 13,
   "metadata": {},
   "outputs": [
    {
     "name": "stdout",
     "output_type": "stream",
     "text": [
      "Intercept: 4.087 [OLS]\n",
      "Intercept: 4.087 [AR (TempC)]\n",
      "Intercept: 3.885 [TAR (TempC)]\n"
     ]
    }
   ],
   "source": [
    "for k, est in estimators.items():\n",
    "    if k != 'Mean':\n",
    "        print(f\"Intercept: {est['fit']['pred'].intercept_:.3f} [{k}]\")"
   ]
  },
  {
   "cell_type": "code",
   "execution_count": 14,
   "metadata": {},
   "outputs": [],
   "source": [
    "labels = {\n",
    "     'OLS' : 'OLS',\n",
    "     'AR (TempC)' : 'PAR (TempC)',\n",
    "     'TAR (TempC)' : 'PTAR (TempC)' \n",
    "}"
   ]
  },
  {
   "cell_type": "code",
   "execution_count": 15,
   "metadata": {},
   "outputs": [
    {
     "data": {
      "image/png": "[encoded data removed]",
      "text/plain": [
       "<Figure size 720x720 with 1 Axes>"
      ]
     },
     "metadata": {
      "needs_background": "light"
     },
     "output_type": "display_data"
    }
   ],
   "source": [
    "plt.rcParams.update({'font.size': 18})\n",
    "f, ax = plt.subplots(nrows=1, ncols=1, figsize=(10, 10), sharex=True, sharey=True)\n",
    "\n",
    "coefs = []\n",
    "ests = []\n",
    "for k, est in estimators.items():\n",
    "    if k in ['OLS', 'TAR (TempC)', 'AR (TempC)']:\n",
    "        this_X = utils.get_estimator_X(data['train']['X'], est)\n",
    "        coefs.append(pd.Series(est['fit']['pred'].coef_, index = this_X.columns).sort_values())\n",
    "        ests.append(labels[k])\n",
    "\n",
    "coef = pd.concat(coefs, axis=1)\n",
    "coef.columns = ests\n",
    "\n",
    "coef.plot(kind = \"barh\", ax=ax)\n",
    "#ax.set_title(\"Comparison of Coefficients\")\n",
    "\n",
    "plt.tight_layout()\n",
    "plt.savefig(\"../figs/coefficient_comparison.pdf\")"
   ]
  }
 ],
 "metadata": {
  "kernelspec": {
   "display_name": "Python 3",
   "language": "python",
   "name": "python3"
  },
  "language_info": {
   "codemirror_mode": {
    "name": "ipython",
    "version": 3
   },
   "file_extension": ".py",
   "mimetype": "text/x-python",
   "name": "python",
   "nbconvert_exporter": "python",
   "pygments_lexer": "ipython3",
   "version": "3.7.9"
  }
 },
 "nbformat": 4,
 "nbformat_minor": 4
}
