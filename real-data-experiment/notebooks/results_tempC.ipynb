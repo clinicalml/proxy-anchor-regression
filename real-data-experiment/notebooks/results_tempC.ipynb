{
 "cells": [
  {
   "cell_type": "markdown",
   "metadata": {},
   "source": [
    "# Tables 1, 2, and Figure 11 (Temperature as proxy)\n",
    "\n",
    "Builds the portions of Tables 1, 2 that do not include W, Z\n",
    "\n",
    "Requires that `run_exp_temp.py` is run"
   ]
  },
  {
   "cell_type": "code",
   "execution_count": 1,
   "metadata": {},
   "outputs": [],
   "source": [
    "RPATH = '../results'\n",
    "FPATH = '../figs'\n",
    "\n",
    "import numpy as np\n",
    "import pandas as pd\n",
    "import seaborn as sns\n",
    "import matplotlib.pyplot as plt\n",
    "import pickle as pkl"
   ]
  },
  {
   "cell_type": "code",
   "execution_count": 2,
   "metadata": {},
   "outputs": [],
   "source": [
    "results = pd.read_csv(f\"{RPATH}/all_res_test_TempC.csv\")\n",
    "results = results.drop('Unnamed: 0', axis=1)\n",
    "\n",
    "residuals = results.drop(\"Lambda\", axis=1).query('Environment == \"Test\"')\n",
    "lambs = results.drop(\"Residual\", axis=1).query('Environment == \"Test\"')\n",
    "\n",
    "mse = lambda v: np.mean(v**2)\n",
    "\n",
    "# Get RMSE by season, city\n",
    "pt = pd.pivot_table(residuals, \n",
    "                    index=['Test_Season', 'City'], \n",
    "                    columns = 'Estimator', \n",
    "                    aggfunc={'Residual': mse})\n",
    "\n",
    "pt.columns = pt.columns.droplevel(0)\n",
    "pt = pt.rename(columns = {\n",
    "    'OLS (All)': 'OLS (TempC)', \n",
    "    'PA (TempC)': 'OLS + Est. Bias',\n",
    "    'TAR (TempC)': 'PTAR (TempC)', \n",
    "    'AR (TempC)': 'PAR (TempC)'\n",
    "})\n",
    "newcols = [\n",
    " 'OLS',\n",
    " 'OLS (TempC)',\n",
    " 'OLS + Est. Bias',\n",
    " 'PAR (TempC)',\n",
    " 'PTAR (TempC)'\n",
    "]\n",
    "pt = pt[newcols].reset_index()"
   ]
  },
  {
   "cell_type": "markdown",
   "metadata": {},
   "source": [
    "# Table 1"
   ]
  },
  {
   "cell_type": "code",
   "execution_count": 3,
   "metadata": {},
   "outputs": [],
   "source": [
    "wins = lambda v: int(np.sum(v < 0))\n",
    "loss = lambda v: int(np.sum(v > 0))\n",
    "\n",
    "lambs_ar = lambs.query(f'Environment == \"Test\" & Estimator == \"AR (TempC)\"').groupby(\n",
    "    ['City', 'Test_Season']).mean()[['Lambda']]\n",
    "\n",
    "lambs_ar = lambs_ar.reset_index().set_index(['City', 'Test_Season'])\n",
    "\n",
    "pt_diff = pt.copy()\n",
    "for est in newcols:\n",
    "    pt_diff[est] = pt[est] - pt['OLS']\n",
    "\n",
    "pt_pos_lamb = pt.set_index(['City', 'Test_Season']).merge(lambs_ar, left_index=True, right_index=True)\n",
    "pt_pos_lamb = pt_pos_lamb.query(\"Lambda > 0\").drop(\"Lambda\", axis=1).reset_index()\n",
    "\n",
    "pt_diff_pos_lamb = pt_pos_lamb.copy()\n",
    "for est in newcols:\n",
    "    pt_diff_pos_lamb[est] = pt_pos_lamb[est] - pt_pos_lamb['OLS']"
   ]
  },
  {
   "cell_type": "code",
   "execution_count": 4,
   "metadata": {},
   "outputs": [
    {
     "name": "stdout",
     "output_type": "stream",
     "text": [
      "\\begin{tabular}{lrrrr}\n",
      "\\toprule\n",
      "{} &  Mean &  Win &    min &   max \\\\\n",
      "Estimator       &       &      &        &       \\\\\n",
      "\\midrule\n",
      "OLS             & 0.537 &    0 &  0.000 & 0.000 \\\\\n",
      "OLS (TempC)     & 0.536 &    5 & -0.028 & 0.026 \\\\\n",
      "OLS + Est. Bias & 0.569 &    4 & -0.072 & 0.150 \\\\\n",
      "PAR (TempC)     & 0.531 &    6 & -0.041 & 0.006 \\\\\n",
      "PTAR (TempC)    & 0.525 &    8 & -0.061 & 0.001 \\\\\n",
      "\\bottomrule\n",
      "\\end{tabular}\n",
      "\n"
     ]
    }
   ],
   "source": [
    "lt = pd.melt(pt_pos_lamb, id_vars=['Test_Season', 'City'], value_name = 'MSE', var_name = 'Estimator')\n",
    "\n",
    "mean_result = lt.groupby('Estimator', as_index=True).agg(\n",
    "    **{'Mean': pd.NamedAgg(column='MSE', aggfunc=np.mean)}\n",
    ").reindex(newcols)\n",
    "\n",
    "pt_diff_long = pd.melt(pt_diff_pos_lamb, id_vars=['Test_Season', 'City'], value_name = 'MSE', var_name='Estimator')\n",
    "\n",
    "diff_ols = pt_diff_long.groupby('Estimator', as_index=True).agg(\n",
    "    **{'min': pd.NamedAgg(column='MSE', aggfunc=np.min), \n",
    "       'max': pd.NamedAgg(column='MSE', aggfunc=np.max)}\n",
    ").reindex(newcols)\n",
    "\n",
    "win_loss_ols = pt_diff_long.groupby('Estimator', as_index=True).agg(\n",
    "    **{'Win': pd.NamedAgg(column='MSE', aggfunc=wins)}\n",
    ").reindex(newcols)\n",
    "\n",
    "print(pd.concat([mean_result, win_loss_ols.astype(int), diff_ols], axis=1).to_latex(float_format=\"{:.3f}\".format))"
   ]
  },
  {
   "cell_type": "markdown",
   "metadata": {},
   "source": [
    "## Table 2\n",
    "\n",
    "This does not include W, Z, see `results_tempC_proxies.ipynb` for those"
   ]
  },
  {
   "cell_type": "code",
   "execution_count": 5,
   "metadata": {
    "scrolled": false
   },
   "outputs": [
    {
     "name": "stdout",
     "output_type": "stream",
     "text": [
      "\\begin{tabular}{lrrrr}\n",
      "\\toprule\n",
      "{} &  Mean &   Diff &    min &   max \\\\\n",
      "Estimator       &       &        &        &       \\\\\n",
      "\\midrule\n",
      "OLS             & 0.457 &  0.000 &  0.000 & 0.000 \\\\\n",
      "OLS (TempC)     & 0.455 & -0.002 & -0.028 & 0.026 \\\\\n",
      "OLS + Est. Bias & 0.474 &  0.018 & -0.072 & 0.150 \\\\\n",
      "PAR (TempC)     & 0.454 & -0.003 & -0.041 & 0.006 \\\\\n",
      "PTAR (TempC)    & 0.450 & -0.007 & -0.061 & 0.002 \\\\\n",
      "\\bottomrule\n",
      "\\end{tabular}\n",
      "\n"
     ]
    }
   ],
   "source": [
    "pt_diff = pt.copy()\n",
    "for est in newcols:\n",
    "    pt_diff[est] = pt[est] - pt['OLS']\n",
    "\n",
    "lt = pd.melt(pt, id_vars=['Test_Season', 'City'], value_name = 'MSE')\n",
    "\n",
    "mean_result = lt.groupby('Estimator', as_index=True).agg(\n",
    "    **{'Mean': pd.NamedAgg(column='MSE', aggfunc=np.mean)}\n",
    ").reindex(newcols)\n",
    "\n",
    "pt_diff_long = pd.melt(pt_diff, id_vars=['Test_Season', 'City'], value_name = 'MSE')\n",
    "\n",
    "diff_ols = pt_diff_long.groupby('Estimator', as_index=True).agg(\n",
    "    **{'Diff': pd.NamedAgg(column='MSE', aggfunc=np.mean),\n",
    "       'min': pd.NamedAgg(column='MSE', aggfunc=np.min), \n",
    "       'max': pd.NamedAgg(column='MSE', aggfunc=np.max)}\n",
    ").reindex(newcols)\n",
    "\n",
    "print(pd.concat([mean_result, diff_ols], axis=1).to_latex(float_format=\"{:.3f}\".format))"
   ]
  },
  {
   "cell_type": "code",
   "execution_count": 6,
   "metadata": {
    "scrolled": true
   },
   "outputs": [
    {
     "data": {
      "text/plain": [
       "'City == 0 & Test_Season == 2'"
      ]
     },
     "execution_count": 6,
     "metadata": {},
     "output_type": "execute_result"
    }
   ],
   "source": [
    "best_city, best_season = pt_diff.sort_values(\n",
    "    f\"PAR (TempC)\", ascending=True).head(1)[['City', 'Test_Season']].values[0]\n",
    "\n",
    "best_case_query = f\"City == {best_city} & Test_Season == {best_season}\"\n",
    "\n",
    "best_case_query"
   ]
  },
  {
   "cell_type": "markdown",
   "metadata": {},
   "source": [
    "# Figure 11"
   ]
  },
  {
   "cell_type": "code",
   "execution_count": 7,
   "metadata": {},
   "outputs": [],
   "source": [
    "rmse_df = pd.read_csv(f\"{RPATH}/all_rmse_test_TempC.csv\")\n",
    "rmse_df = rmse_df.drop('Unnamed: 0', axis=1)"
   ]
  },
  {
   "cell_type": "code",
   "execution_count": 8,
   "metadata": {},
   "outputs": [
    {
     "data": {
      "text/plain": [
       "['AR (TempC)', 'Mean', 'OLS', 'OLS (All)', 'PA (TempC)', 'TAR (TempC)']"
      ]
     },
     "execution_count": 8,
     "metadata": {},
     "output_type": "execute_result"
    }
   ],
   "source": [
    "plot_est = list(rmse_df.groupby('Estimator').mean().index.values)\n",
    "plot_est"
   ]
  },
  {
   "cell_type": "code",
   "execution_count": 9,
   "metadata": {},
   "outputs": [],
   "source": [
    "plot_est = [f for f in plot_est if 'Mean' not in f]"
   ]
  },
  {
   "cell_type": "code",
   "execution_count": 10,
   "metadata": {},
   "outputs": [],
   "source": [
    "plot_df = rmse_df.query('Environment == \"Test\" & Estimator in @plot_est').copy()\n",
    "plot_df['MSE'] = plot_df['RMSE'] **2"
   ]
  },
  {
   "cell_type": "code",
   "execution_count": 11,
   "metadata": {},
   "outputs": [],
   "source": [
    "best_case = plot_df.query(best_case_query).copy()"
   ]
  },
  {
   "cell_type": "code",
   "execution_count": 12,
   "metadata": {},
   "outputs": [],
   "source": [
    "order = [\n",
    "     'OLS',\n",
    "     'AR (TempC)',\n",
    "     'TAR (TempC)'\n",
    "]\n",
    "\n",
    "labels = [\n",
    "    'OLS',\n",
    "    'PAR (TempC)',\n",
    "    'PTAR (TempC)'    \n",
    "]"
   ]
  },
  {
   "cell_type": "code",
   "execution_count": 13,
   "metadata": {},
   "outputs": [
    {
     "data": {
      "image/png": "[encoded data removed]",
      "text/plain": [
       "<Figure size 720x720 with 1 Axes>"
      ]
     },
     "metadata": {
      "needs_background": "light"
     },
     "output_type": "display_data"
    }
   ],
   "source": [
    "plt.rcParams.update({'font.size': 20})\n",
    "fig, ax = plt.subplots(ncols = 1, sharey = True, figsize=(10, 10))\n",
    "sns.boxplot(y = 'Estimator', x='MSE', order = order, data=best_case, ax=ax)\n",
    "ax.set_ylabel(None)\n",
    "ax.set_yticklabels(labels)\n",
    "plt.tight_layout()\n",
    "plt.savefig(f\"{FPATH}/best_case_performance_TempC.pdf\")"
   ]
  }
 ],
 "metadata": {
  "kernelspec": {
   "display_name": "Python 3",
   "language": "python",
   "name": "python3"
  },
  "language_info": {
   "codemirror_mode": {
    "name": "ipython",
    "version": 3
   },
   "file_extension": ".py",
   "mimetype": "text/x-python",
   "name": "python",
   "nbconvert_exporter": "python",
   "pygments_lexer": "ipython3",
   "version": "3.7.9"
  }
 },
 "nbformat": 4,
 "nbformat_minor": 4
}
