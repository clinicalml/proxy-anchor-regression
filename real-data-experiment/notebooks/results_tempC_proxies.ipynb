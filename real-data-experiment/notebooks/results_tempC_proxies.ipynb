{
 "cells": [
  {
   "cell_type": "markdown",
   "metadata": {},
   "source": [
    "# Tables 1, 2 (Proxies of Temperature)\n",
    "\n",
    "Builds the portions of Tables 1, 2 that include W, Z\n",
    "\n",
    "Requires that `run_exp_temp_proxies.py` is run"
   ]
  },
  {
   "cell_type": "code",
   "execution_count": 1,
   "metadata": {},
   "outputs": [],
   "source": [
    "RPATH = '../results'\n",
    "FPATH = '../figs'"
   ]
  },
  {
   "cell_type": "code",
   "execution_count": 2,
   "metadata": {},
   "outputs": [],
   "source": [
    "import numpy as np\n",
    "import pandas as pd\n",
    "import seaborn as sns\n",
    "import matplotlib.pyplot as plt\n",
    "import pickle as pkl"
   ]
  },
  {
   "cell_type": "code",
   "execution_count": 3,
   "metadata": {},
   "outputs": [],
   "source": [
    "results = pd.read_csv(f\"{RPATH}/all_res_test_anchor_prox_TempC_lamb_fixed.csv\")\n",
    "results = results.drop('Unnamed: 0', axis=1)\n",
    "\n",
    "residuals = results.drop(\"Lambda\", axis=1).query('Environment == \"Test\"')\n",
    "lambs = results.drop(\"Residual\", axis=1).query('Environment == \"Test\"')\n",
    "\n",
    "mse = lambda v: np.mean(v**2)\n",
    "\n",
    "# Get RMSE by season, city\n",
    "pt = pd.pivot_table(residuals, \n",
    "                    index=['Test_Season', 'City'], \n",
    "                    columns = 'Estimator', \n",
    "                    aggfunc={'Residual': mse})\n",
    "\n",
    "pt.columns = pt.columns.droplevel(0)\n",
    "pt = pt.rename(columns = {\n",
    "    'TAR (W)': 'PTAR (W)',\n",
    "    'xTAR (W, Z)': 'xPTAR (W, Z)',\n",
    "    'AR (W)': 'PAR (W)',\n",
    "    'xAR (W, Z)': 'xPAR (W, Z)'\n",
    "})\n",
    "newcols = [\n",
    " 'OLS',\n",
    " 'PAR (W)',\n",
    " 'xPAR (W, Z)',\n",
    " 'PTAR (W)',\n",
    " 'xPTAR (W, Z)', \n",
    "]\n",
    "pt = pt[newcols].reset_index()"
   ]
  },
  {
   "cell_type": "markdown",
   "metadata": {},
   "source": [
    "# Table 1 (W, Z)"
   ]
  },
  {
   "cell_type": "code",
   "execution_count": 4,
   "metadata": {
    "scrolled": true
   },
   "outputs": [
    {
     "name": "stdout",
     "output_type": "stream",
     "text": [
      "\\begin{tabular}{lrrrr}\n",
      "\\toprule\n",
      "{} &  Mean &  Win &    min &   max \\\\\n",
      "Estimator    &       &      &        &       \\\\\n",
      "\\midrule\n",
      "OLS          & 0.537 &    0 &  0.000 & 0.000 \\\\\n",
      "PAR (W)      & 0.531 &    6 & -0.037 & 0.006 \\\\\n",
      "xPAR (W, Z)  & 0.531 &    6 & -0.039 & 0.007 \\\\\n",
      "PTAR (W)     & 0.529 &    8 & -0.038 & 0.001 \\\\\n",
      "xPTAR (W, Z) & 0.526 &    7 & -0.059 & 0.001 \\\\\n",
      "\\bottomrule\n",
      "\\end{tabular}\n",
      "\n"
     ]
    }
   ],
   "source": [
    "wins = lambda v: int(np.sum(v < 0))\n",
    "loss = lambda v: int(np.sum(v > 0))\n",
    "\n",
    "lambs_ar = lambs.query(f'Environment == \"Test\" & Estimator == \"AR (W)\"').groupby(\n",
    "    ['City', 'Test_Season']).mean()[['Lambda']]\n",
    "\n",
    "lambs_ar = lambs_ar.reset_index().set_index(['City', 'Test_Season'])\n",
    "\n",
    "pt_diff = pt.copy()\n",
    "for est in newcols:\n",
    "    pt_diff[est] = pt[est] - pt['OLS']\n",
    "\n",
    "pt_pos_lamb = pt.set_index(['City', 'Test_Season']).merge(lambs_ar, left_index=True, right_index=True)\n",
    "pt_pos_lamb = pt_pos_lamb.query(\"Lambda > 0\").drop(\"Lambda\", axis=1).reset_index()\n",
    "\n",
    "pt_diff_pos_lamb = pt_pos_lamb.copy()\n",
    "for est in newcols:\n",
    "    pt_diff_pos_lamb[est] = pt_pos_lamb[est] - pt_pos_lamb['OLS']\n",
    "\n",
    "lt = pd.melt(pt_pos_lamb, id_vars=['Test_Season', 'City'], value_name = 'MSE', var_name = 'Estimator')\n",
    "\n",
    "mean_result = lt.groupby('Estimator', as_index=True).agg(\n",
    "    **{'Mean': pd.NamedAgg(column='MSE', aggfunc=np.mean)}\n",
    ").reindex(newcols)\n",
    "\n",
    "pt_diff_long = pd.melt(pt_diff_pos_lamb, id_vars=['Test_Season', 'City'], value_name = 'MSE', var_name='Estimator')\n",
    "\n",
    "diff_ols = pt_diff_long.groupby('Estimator', as_index=True).agg(\n",
    "    **{'min': pd.NamedAgg(column='MSE', aggfunc=np.min), \n",
    "       'max': pd.NamedAgg(column='MSE', aggfunc=np.max)}\n",
    ").reindex(newcols)\n",
    "\n",
    "win_loss_ols = pt_diff_long.groupby('Estimator', as_index=True).agg(\n",
    "    **{'Win': pd.NamedAgg(column='MSE', aggfunc=wins)}\n",
    ").reindex(newcols)\n",
    "\n",
    "print(pd.concat([mean_result, win_loss_ols.astype(int), diff_ols], axis=1).to_latex(float_format=\"{:.3f}\".format))"
   ]
  },
  {
   "cell_type": "markdown",
   "metadata": {},
   "source": [
    "# Table 2 (W, Z)"
   ]
  },
  {
   "cell_type": "code",
   "execution_count": 5,
   "metadata": {},
   "outputs": [
    {
     "name": "stdout",
     "output_type": "stream",
     "text": [
      "\\begin{tabular}{lrrrr}\n",
      "\\toprule\n",
      "{} &  Mean &   Diff &    min &   max \\\\\n",
      "Estimator    &       &        &        &       \\\\\n",
      "\\midrule\n",
      "OLS          & 0.457 &  0.000 &  0.000 & 0.000 \\\\\n",
      "PAR (W)      & 0.454 & -0.002 & -0.037 & 0.006 \\\\\n",
      "xPAR (W, Z)  & 0.454 & -0.003 & -0.039 & 0.007 \\\\\n",
      "PTAR (W)     & 0.452 & -0.005 & -0.038 & 0.001 \\\\\n",
      "xPTAR (W, Z) & 0.450 & -0.007 & -0.059 & 0.003 \\\\\n",
      "\\bottomrule\n",
      "\\end{tabular}\n",
      "\n"
     ]
    }
   ],
   "source": [
    "pt_diff = pt.copy()\n",
    "for est in newcols:\n",
    "    pt_diff[est] = pt[est] - pt['OLS']\n",
    "\n",
    "lt = pd.melt(pt, id_vars=['Test_Season', 'City'], value_name = 'MSE')\n",
    "\n",
    "mean_result = lt.groupby('Estimator', as_index=True).agg(\n",
    "    **{'Mean': pd.NamedAgg(column='MSE', aggfunc=np.mean)}\n",
    ").reindex(newcols)\n",
    "\n",
    "pt_diff_long = pd.melt(pt_diff, id_vars=['Test_Season', 'City'], value_name = 'MSE')\n",
    "\n",
    "diff_ols = pt_diff_long.groupby('Estimator', as_index=True).agg(\n",
    "    **{'Diff': pd.NamedAgg(column='MSE', aggfunc=np.mean),\n",
    "       'min': pd.NamedAgg(column='MSE', aggfunc=np.min), \n",
    "       'max': pd.NamedAgg(column='MSE', aggfunc=np.max)}\n",
    ").reindex(newcols)\n",
    "\n",
    "print(pd.concat([mean_result, diff_ols], axis=1).to_latex(float_format=\"{:.3f}\".format))"
   ]
  }
 ],
 "metadata": {
  "kernelspec": {
   "display_name": "Python 3",
   "language": "python",
   "name": "python3"
  },
  "language_info": {
   "codemirror_mode": {
    "name": "ipython",
    "version": 3
   },
   "file_extension": ".py",
   "mimetype": "text/x-python",
   "name": "python",
   "nbconvert_exporter": "python",
   "pygments_lexer": "ipython3",
   "version": "3.7.9"
  }
 },
 "nbformat": 4,
 "nbformat_minor": 4
}
