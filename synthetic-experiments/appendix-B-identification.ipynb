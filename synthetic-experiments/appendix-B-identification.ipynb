{
 "cells": [
  {
   "cell_type": "code",
   "execution_count": 1,
   "metadata": {},
   "outputs": [],
   "source": [
    "import numpy as np\n",
    "import pandas as pd\n",
    "\n",
    "import matplotlib.pyplot as plt\n",
    "import seaborn as sns"
   ]
  },
  {
   "cell_type": "markdown",
   "metadata": {},
   "source": [
    "## Define the observed distribution"
   ]
  },
  {
   "cell_type": "code",
   "execution_count": 2,
   "metadata": {},
   "outputs": [],
   "source": [
    "###############################\n",
    "# Define a covariance matrix\n",
    "###############################\n",
    "\n",
    "cov = {'wx': 1, 'xy': 3, 'wy': 2, 'ww': 9, 'xx': 9, 'yy': 9}\n",
    "\n",
    "#############################\n",
    "# Choose Lambda\n",
    "#############################\n",
    "lda = 5"
   ]
  },
  {
   "cell_type": "markdown",
   "metadata": {},
   "source": [
    "## Generate valid parameters"
   ]
  },
  {
   "cell_type": "markdown",
   "metadata": {},
   "source": [
    "Here we generate valid parameterizations.  Notable restrictions implied by the model\n",
    "1. $\\rho_W$ is lower bounded by the squared covariance of W, X\n",
    "2. $\\sigma_Y^2$ cannot go below zero"
   ]
  },
  {
   "cell_type": "code",
   "execution_count": 3,
   "metadata": {},
   "outputs": [
    {
     "name": "stdout",
     "output_type": "stream",
     "text": [
      "[13.11309058  5.79808822  8.08882119]\n"
     ]
    }
   ],
   "source": [
    "# Verify that the chosen covariance matrix is PD\n",
    "cov_mat = np.array(\n",
    "    [[cov['xx'], cov['xy'], cov['wx']],\n",
    "     [cov['xy'], cov['yy'], cov['wy']],\n",
    "     [cov['wx'], cov['wy'], cov['ww']]])\n",
    "\n",
    "w, _ = np.linalg.eig(cov_mat)\n",
    "assert np.all(w > 0) # Verify that covariance is PD\n",
    "print(w)"
   ]
  },
  {
   "cell_type": "code",
   "execution_count": 4,
   "metadata": {},
   "outputs": [],
   "source": [
    "corr_wx = cov['wx'] / np.sqrt(cov['xx'] * cov['ww'])\n",
    "assert corr_wx < 1 and corr_wx > 0\n",
    "\n",
    "# Generate a range of feasible rho_w\n",
    "# The smallest rw corresponds to the largest rx, which is 1.\n",
    "min_rw = corr_wx**2\n",
    "rw = np.linspace(min_rw+0.001, 1, 1000)\n",
    "#rw = np.linspace(0.06, 1, 1000)\n",
    "\n",
    "# Generate all remaining values\n",
    "rx = corr_wx**2 / rw\n",
    "\n",
    "sx = cov['xx'] * (1 - rx)\n",
    "sw = cov['ww'] * (1 - rw)\n",
    "\n",
    "bw = np.sqrt(cov['ww'] * rw)\n",
    "bx = np.sqrt(cov['xx'] * rx)\n",
    "by = (1 / (bw * (1 - rx))) * (cov['wy'] - (cov['xy'] * cov['wx']) / cov['xx'])\n",
    "a = (cov['xy'] - by * bx) / cov['xx']\n",
    "\n",
    "sy = cov['yy'] - by**2 - (2*a*by*bx) - (a**2) * cov['xx']"
   ]
  },
  {
   "cell_type": "code",
   "execution_count": 5,
   "metadata": {
    "scrolled": true
   },
   "outputs": [
    {
     "name": "stdout",
     "output_type": "stream",
     "text": [
      "$\\rho_W$ cannot go below 0.012345679012345678\n"
     ]
    }
   ],
   "source": [
    "print(f\"$\\\\rho_W$ cannot go below {min_rw}\")"
   ]
  },
  {
   "cell_type": "code",
   "execution_count": 6,
   "metadata": {},
   "outputs": [],
   "source": [
    "# Verify that all observed moments match\n",
    "e_wx = bw * bx\n",
    "assert np.all(np.isclose(e_wx, cov['wx']))\n",
    "\n",
    "e_xy = by * bx + a * cov['xx']\n",
    "assert np.all(np.isclose(e_xy, cov['xy']))\n",
    "\n",
    "e_wy = bw * (by + a * bx)\n",
    "assert np.all(np.isclose(e_wy, cov['wy']))\n",
    "\n",
    "e_ww = bw**2 + sw\n",
    "assert np.all(np.isclose(e_ww, cov['ww']))\n",
    "\n",
    "e_xx = bx**2 + sx\n",
    "assert np.all(np.isclose(e_xx, cov['xx']))\n",
    "\n",
    "e_yy = (a**2)*cov['xx'] + (2*a*by*bx) + by**2 + sy\n",
    "assert np.all(np.isclose(e_yy, cov['yy']))"
   ]
  },
  {
   "cell_type": "markdown",
   "metadata": {},
   "source": [
    "Later, we will filter out all instances where `sy < 0`, which will remove some of these"
   ]
  },
  {
   "cell_type": "markdown",
   "metadata": {},
   "source": [
    "## Compute solutions\n",
    "\n",
    "We compute the anchor regression solution (which relies upon the unidentified variables) for each parameterization, and can then compare this to the solution when a single proxy is used, which is fixed (because it uses only the observed distribution over X, Y, W)"
   ]
  },
  {
   "cell_type": "code",
   "execution_count": 7,
   "metadata": {},
   "outputs": [],
   "source": [
    "# Anchor Regression Solution\n",
    "g_a = ((a * bx**2 + bx * by)*(1 + lda) + a * sx) \\\n",
    "    / ((bx**2 * (1 + lda) + sx))\n",
    "\n",
    "# Proxy Anchor Regression solution\n",
    "g_w = (cov['xy'] * cov['ww'] + lda * cov['wy']) \\\n",
    "    / (cov['xx'] * cov['ww'] + lda * cov['wx']) "
   ]
  },
  {
   "cell_type": "markdown",
   "metadata": {},
   "source": [
    "We can then compute the expected loss, under the worst-case shift"
   ]
  },
  {
   "cell_type": "code",
   "execution_count": 8,
   "metadata": {},
   "outputs": [],
   "source": [
    "def get_loss(g, shift, noise=True):\n",
    "    loss = (((a - g) * bx + by)**2)*(shift) + ((a - g)**2) * sx\n",
    "    if noise:\n",
    "        loss = loss + sy\n",
    "    return loss\n",
    "\n",
    "loss_g_a = get_loss(g_a, 1 + lda, noise=True)\n",
    "loss_g_w = get_loss(g_w, 1 + lda, noise=True)"
   ]
  },
  {
   "cell_type": "code",
   "execution_count": 9,
   "metadata": {},
   "outputs": [],
   "source": [
    "results = np.array([\n",
    "    # Parameters\n",
    "    rw, rx, sw, sx, sy, \n",
    "    bw, bx, by, a, \n",
    "    # AR solution\n",
    "    g_a, \n",
    "    # Loss under different models\n",
    "    loss_g_a, loss_g_w, \n",
    "    loss_g_w - loss_g_a]).T\n",
    "\n",
    "results_df = pd.DataFrame(results, columns=[\n",
    "    'rho_W', 'rho_X', 'sig_W', 'sig_X', 'sig_Y', \n",
    "    'b_W', 'b_X', 'b_Y', 'a', \n",
    "    'g_a', \n",
    "    'loss_g_a', 'loss_g_w', \n",
    "    'diff_loss_w_a'])\n",
    "\n",
    "# Filter for parameterizations that are valid\n",
    "results_df = results_df.query('sig_Y > 0 & rho_X < 1')"
   ]
  },
  {
   "cell_type": "code",
   "execution_count": 10,
   "metadata": {},
   "outputs": [
    {
     "name": "stdout",
     "output_type": "stream",
     "text": [
      "After filtering out negative values of sigma_Y, the minimum $\\rho_W$ is 0.05186371556741927\n"
     ]
    }
   ],
   "source": [
    "print(f\"After filtering out negative values of sigma_Y, the minimum $\\\\rho_W$ is {results_df['rho_W'].min()}\")"
   ]
  },
  {
   "cell_type": "markdown",
   "metadata": {},
   "source": [
    "## Plot results"
   ]
  },
  {
   "cell_type": "code",
   "execution_count": 11,
   "metadata": {},
   "outputs": [],
   "source": [
    "def plot_vars(var_list, df, id_vars=['rho_W']):\n",
    "    \n",
    "    long_df = pd.melt(df, id_vars=id_vars)\n",
    "    long_df.rename(columns = {'variable': 'Parameter'}, inplace=True)\n",
    "    \n",
    "    f, ax = plt.subplots(figsize=(6.5, 6.5))\n",
    "    sns.lineplot(x='rho_W', y='value', hue='Parameter', \n",
    "                    data=long_df.query('Parameter in @var_list'),\n",
    "                    ax=ax)\n",
    "    ax.set_xlabel('$\\\\rho_W$')\n",
    "    \n",
    "    return f, ax"
   ]
  },
  {
   "cell_type": "markdown",
   "metadata": {},
   "source": [
    "### Figure 10(a)"
   ]
  },
  {
   "cell_type": "code",
   "execution_count": 13,
   "metadata": {},
   "outputs": [
    {
     "data": {
      "image/png": "[encoded data removed]",
      "text/plain": [
       "<Figure size 468x468 with 1 Axes>"
      ]
     },
     "metadata": {
      "needs_background": "light"
     },
     "output_type": "display_data"
    }
   ],
   "source": [
    "var_list = ['b_W', 'b_X', 'b_Y', 'a', 'sig_Y']\n",
    "f, ax = plot_vars(var_list, results_df)\n",
    "\n",
    "plt.legend(title='Parameters', loc='upper right', labels=['$\\\\sigma_Y$', '$\\\\beta_W$', '$\\\\beta_X$', '$\\\\beta_Y$', '$\\\\alpha$'])\n",
    "#plt.savefig(\"figs/id_example_parameters.pdf\")\n",
    "plt.show()"
   ]
  },
  {
   "cell_type": "markdown",
   "metadata": {},
   "source": [
    "### Figure 10(b)"
   ]
  },
  {
   "cell_type": "code",
   "execution_count": 14,
   "metadata": {},
   "outputs": [
    {
     "data": {
      "image/png": "[encoded data removed]",
      "text/plain": [
       "<Figure size 468x468 with 1 Axes>"
      ]
     },
     "metadata": {
      "needs_background": "light"
     },
     "output_type": "display_data"
    }
   ],
   "source": [
    "var_list = ['g_a']\n",
    "f, ax = plot_vars(var_list, results_df)\n",
    "\n",
    "# Plot the value of gamma when W is used \n",
    "ax.axhline(y=g_w, xmin=0, xmax=1, label='g_w', color='green')\n",
    "\n",
    "plt.legend(title='Parameters', loc='upper right')\n",
    "           #colors=['green', 'blue'])\n",
    "#plt.savefig(\"figs/id_example_gamma.pdf\")\n",
    "plt.show()"
   ]
  }
 ],
 "metadata": {
  "kernelspec": {
   "display_name": "Python 3",
   "language": "python",
   "name": "python3"
  },
  "language_info": {
   "codemirror_mode": {
    "name": "ipython",
    "version": 3
   },
   "file_extension": ".py",
   "mimetype": "text/x-python",
   "name": "python",
   "nbconvert_exporter": "python",
   "pygments_lexer": "ipython3",
   "version": "3.7.9"
  }
 },
 "nbformat": 4,
 "nbformat_minor": 4
}
